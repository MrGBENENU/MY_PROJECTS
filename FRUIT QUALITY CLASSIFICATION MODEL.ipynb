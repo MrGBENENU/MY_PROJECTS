{
 "cells": [
  {
   "cell_type": "markdown",
   "id": "f8d1fba1",
   "metadata": {},
   "source": [
    "# OVERVIEW\n",
    "This dataset contains information about various attributes of a set of fruits, providing insights into their characteristics. The dataset includes details such as fruit ID, size, weight, sweetness, crunchiness, juiciness, ripeness, acidity, and quality."
   ]
  },
  {
   "cell_type": "markdown",
   "id": "c0f84205",
   "metadata": {},
   "source": [
    "A_id: Unique identifier for each fruit\n",
    "\n",
    "Size: Size of the fruit\n",
    "\n",
    "Weight: Weight of the fruit\n",
    "\n",
    "Sweetness: Degree of sweetness of the fruit\n",
    "\n",
    "Crunchiness: Texture indicating the crunchiness of the fruit\n",
    "\n",
    "Juiciness: Level of juiciness of the fruit\n",
    "\n",
    "Ripeness: Stage of ripeness of the fruit\n",
    "\n",
    "Acidity: Acidity level of the fruit\n",
    "\n",
    "Quality: Overall quality of the fruit"
   ]
  },
  {
   "cell_type": "markdown",
   "id": "2baa625b",
   "metadata": {},
   "source": [
    "### Potential Use Cases\n",
    "Fruit Classification: Develop a classification model to categorize fruits based on their features.\n",
    "\n",
    "Quality Prediction: Build a model to predict the quality rating of fruits using various attributes."
   ]
  },
  {
   "cell_type": "markdown",
   "id": "985f30b8",
   "metadata": {},
   "source": [
    "# EXPLORATORY DATA ANALYSIS"
   ]
  },
  {
   "cell_type": "code",
   "execution_count": 1,
   "id": "714491d8",
   "metadata": {},
   "outputs": [],
   "source": [
    "#importing the necessary libraries\n",
    "import pandas as pd\n",
    "import numpy as np"
   ]
  },
  {
   "cell_type": "code",
   "execution_count": 2,
   "id": "29b39dcb",
   "metadata": {},
   "outputs": [],
   "source": [
    "#loading the datset\n",
    "Fruit = pd.read_csv('apple_quality.csv')"
   ]
  },
  {
   "cell_type": "code",
   "execution_count": 3,
   "id": "3b5c2d29",
   "metadata": {},
   "outputs": [
    {
     "data": {
      "text/html": [
       "<div>\n",
       "<style scoped>\n",
       "    .dataframe tbody tr th:only-of-type {\n",
       "        vertical-align: middle;\n",
       "    }\n",
       "\n",
       "    .dataframe tbody tr th {\n",
       "        vertical-align: top;\n",
       "    }\n",
       "\n",
       "    .dataframe thead th {\n",
       "        text-align: right;\n",
       "    }\n",
       "</style>\n",
       "<table border=\"1\" class=\"dataframe\">\n",
       "  <thead>\n",
       "    <tr style=\"text-align: right;\">\n",
       "      <th></th>\n",
       "      <th>A_id</th>\n",
       "      <th>Size</th>\n",
       "      <th>Weight</th>\n",
       "      <th>Sweetness</th>\n",
       "      <th>Crunchiness</th>\n",
       "      <th>Juiciness</th>\n",
       "      <th>Ripeness</th>\n",
       "      <th>Acidity</th>\n",
       "      <th>Quality</th>\n",
       "    </tr>\n",
       "  </thead>\n",
       "  <tbody>\n",
       "    <tr>\n",
       "      <th>0</th>\n",
       "      <td>0</td>\n",
       "      <td>-3.970049</td>\n",
       "      <td>-2.512336</td>\n",
       "      <td>5.346330</td>\n",
       "      <td>-1.012009</td>\n",
       "      <td>1.844900</td>\n",
       "      <td>0.329840</td>\n",
       "      <td>-0.491590</td>\n",
       "      <td>good</td>\n",
       "    </tr>\n",
       "    <tr>\n",
       "      <th>1</th>\n",
       "      <td>1</td>\n",
       "      <td>-1.195217</td>\n",
       "      <td>-2.839257</td>\n",
       "      <td>3.664059</td>\n",
       "      <td>1.588232</td>\n",
       "      <td>0.853286</td>\n",
       "      <td>0.867530</td>\n",
       "      <td>-0.722809</td>\n",
       "      <td>good</td>\n",
       "    </tr>\n",
       "    <tr>\n",
       "      <th>2</th>\n",
       "      <td>2</td>\n",
       "      <td>-0.292024</td>\n",
       "      <td>-1.351282</td>\n",
       "      <td>-1.738429</td>\n",
       "      <td>-0.342616</td>\n",
       "      <td>2.838636</td>\n",
       "      <td>-0.038033</td>\n",
       "      <td>2.621636</td>\n",
       "      <td>bad</td>\n",
       "    </tr>\n",
       "    <tr>\n",
       "      <th>3</th>\n",
       "      <td>3</td>\n",
       "      <td>-0.657196</td>\n",
       "      <td>-2.271627</td>\n",
       "      <td>1.324874</td>\n",
       "      <td>-0.097875</td>\n",
       "      <td>3.637970</td>\n",
       "      <td>-3.413761</td>\n",
       "      <td>0.790723</td>\n",
       "      <td>good</td>\n",
       "    </tr>\n",
       "    <tr>\n",
       "      <th>4</th>\n",
       "      <td>4</td>\n",
       "      <td>1.364217</td>\n",
       "      <td>-1.296612</td>\n",
       "      <td>-0.384658</td>\n",
       "      <td>-0.553006</td>\n",
       "      <td>3.030874</td>\n",
       "      <td>-1.303849</td>\n",
       "      <td>0.501984</td>\n",
       "      <td>good</td>\n",
       "    </tr>\n",
       "    <tr>\n",
       "      <th>5</th>\n",
       "      <td>5</td>\n",
       "      <td>-3.425400</td>\n",
       "      <td>-1.409082</td>\n",
       "      <td>-1.913511</td>\n",
       "      <td>-0.555775</td>\n",
       "      <td>-3.853071</td>\n",
       "      <td>1.914616</td>\n",
       "      <td>-2.981523</td>\n",
       "      <td>bad</td>\n",
       "    </tr>\n",
       "    <tr>\n",
       "      <th>6</th>\n",
       "      <td>6</td>\n",
       "      <td>1.331606</td>\n",
       "      <td>1.635956</td>\n",
       "      <td>0.875974</td>\n",
       "      <td>-1.677798</td>\n",
       "      <td>3.106344</td>\n",
       "      <td>-1.847417</td>\n",
       "      <td>2.414171</td>\n",
       "      <td>good</td>\n",
       "    </tr>\n",
       "    <tr>\n",
       "      <th>7</th>\n",
       "      <td>7</td>\n",
       "      <td>-1.995462</td>\n",
       "      <td>-0.428958</td>\n",
       "      <td>1.530644</td>\n",
       "      <td>-0.742972</td>\n",
       "      <td>0.158834</td>\n",
       "      <td>0.974438</td>\n",
       "      <td>-1.470125</td>\n",
       "      <td>good</td>\n",
       "    </tr>\n",
       "    <tr>\n",
       "      <th>8</th>\n",
       "      <td>8</td>\n",
       "      <td>-3.867632</td>\n",
       "      <td>-3.734514</td>\n",
       "      <td>0.986429</td>\n",
       "      <td>-1.207655</td>\n",
       "      <td>2.292873</td>\n",
       "      <td>4.080921</td>\n",
       "      <td>-4.871905</td>\n",
       "      <td>bad</td>\n",
       "    </tr>\n",
       "    <tr>\n",
       "      <th>9</th>\n",
       "      <td>9</td>\n",
       "      <td>-0.727983</td>\n",
       "      <td>-0.442820</td>\n",
       "      <td>-4.092223</td>\n",
       "      <td>0.597513</td>\n",
       "      <td>0.393714</td>\n",
       "      <td>1.620857</td>\n",
       "      <td>2.185608</td>\n",
       "      <td>bad</td>\n",
       "    </tr>\n",
       "  </tbody>\n",
       "</table>\n",
       "</div>"
      ],
      "text/plain": [
       "   A_id      Size    Weight  Sweetness  Crunchiness  Juiciness  Ripeness  \\\n",
       "0     0 -3.970049 -2.512336   5.346330    -1.012009   1.844900  0.329840   \n",
       "1     1 -1.195217 -2.839257   3.664059     1.588232   0.853286  0.867530   \n",
       "2     2 -0.292024 -1.351282  -1.738429    -0.342616   2.838636 -0.038033   \n",
       "3     3 -0.657196 -2.271627   1.324874    -0.097875   3.637970 -3.413761   \n",
       "4     4  1.364217 -1.296612  -0.384658    -0.553006   3.030874 -1.303849   \n",
       "5     5 -3.425400 -1.409082  -1.913511    -0.555775  -3.853071  1.914616   \n",
       "6     6  1.331606  1.635956   0.875974    -1.677798   3.106344 -1.847417   \n",
       "7     7 -1.995462 -0.428958   1.530644    -0.742972   0.158834  0.974438   \n",
       "8     8 -3.867632 -3.734514   0.986429    -1.207655   2.292873  4.080921   \n",
       "9     9 -0.727983 -0.442820  -4.092223     0.597513   0.393714  1.620857   \n",
       "\n",
       "    Acidity Quality  \n",
       "0 -0.491590    good  \n",
       "1 -0.722809    good  \n",
       "2  2.621636     bad  \n",
       "3  0.790723    good  \n",
       "4  0.501984    good  \n",
       "5 -2.981523     bad  \n",
       "6  2.414171    good  \n",
       "7 -1.470125    good  \n",
       "8 -4.871905     bad  \n",
       "9  2.185608     bad  "
      ]
     },
     "execution_count": 3,
     "metadata": {},
     "output_type": "execute_result"
    }
   ],
   "source": [
    "#inspecting the first 10 rows\n",
    "Fruit.head(10)"
   ]
  },
  {
   "cell_type": "code",
   "execution_count": 4,
   "id": "3f1e1107",
   "metadata": {},
   "outputs": [
    {
     "name": "stdout",
     "output_type": "stream",
     "text": [
      "<class 'pandas.core.frame.DataFrame'>\n",
      "RangeIndex: 4000 entries, 0 to 3999\n",
      "Data columns (total 9 columns):\n",
      " #   Column       Non-Null Count  Dtype  \n",
      "---  ------       --------------  -----  \n",
      " 0   A_id         4000 non-null   int64  \n",
      " 1   Size         4000 non-null   float64\n",
      " 2   Weight       4000 non-null   float64\n",
      " 3   Sweetness    4000 non-null   float64\n",
      " 4   Crunchiness  4000 non-null   float64\n",
      " 5   Juiciness    4000 non-null   float64\n",
      " 6   Ripeness     4000 non-null   float64\n",
      " 7   Acidity      4000 non-null   float64\n",
      " 8   Quality      4000 non-null   object \n",
      "dtypes: float64(7), int64(1), object(1)\n",
      "memory usage: 281.4+ KB\n"
     ]
    }
   ],
   "source": [
    "#checking for missing values and data types\n",
    "Fruit.info()"
   ]
  },
  {
   "cell_type": "code",
   "execution_count": 5,
   "id": "f8b61d9d",
   "metadata": {},
   "outputs": [
    {
     "data": {
      "text/plain": [
       "(4000, 9)"
      ]
     },
     "execution_count": 5,
     "metadata": {},
     "output_type": "execute_result"
    }
   ],
   "source": [
    "#checking the count of rowss and columns\n",
    "Fruit.shape"
   ]
  },
  {
   "cell_type": "code",
   "execution_count": 6,
   "id": "9f1eebfb",
   "metadata": {},
   "outputs": [
    {
     "data": {
      "text/plain": [
       "Index(['A_id', 'Size', 'Weight', 'Sweetness', 'Crunchiness', 'Juiciness',\n",
       "       'Ripeness', 'Acidity', 'Quality'],\n",
       "      dtype='object')"
      ]
     },
     "execution_count": 6,
     "metadata": {},
     "output_type": "execute_result"
    }
   ],
   "source": [
    "#inspecting the column headers\n",
    "Fruit.columns"
   ]
  },
  {
   "cell_type": "code",
   "execution_count": 7,
   "id": "4f0f6edf",
   "metadata": {},
   "outputs": [
    {
     "data": {
      "text/html": [
       "<div>\n",
       "<style scoped>\n",
       "    .dataframe tbody tr th:only-of-type {\n",
       "        vertical-align: middle;\n",
       "    }\n",
       "\n",
       "    .dataframe tbody tr th {\n",
       "        vertical-align: top;\n",
       "    }\n",
       "\n",
       "    .dataframe thead th {\n",
       "        text-align: right;\n",
       "    }\n",
       "</style>\n",
       "<table border=\"1\" class=\"dataframe\">\n",
       "  <thead>\n",
       "    <tr style=\"text-align: right;\">\n",
       "      <th></th>\n",
       "      <th>A_id</th>\n",
       "      <th>Size</th>\n",
       "      <th>Weight</th>\n",
       "      <th>Sweetness</th>\n",
       "      <th>Crunchiness</th>\n",
       "      <th>Juiciness</th>\n",
       "      <th>Ripeness</th>\n",
       "      <th>Acidity</th>\n",
       "      <th>Quality</th>\n",
       "    </tr>\n",
       "  </thead>\n",
       "  <tbody>\n",
       "  </tbody>\n",
       "</table>\n",
       "</div>"
      ],
      "text/plain": [
       "Empty DataFrame\n",
       "Columns: [A_id, Size, Weight, Sweetness, Crunchiness, Juiciness, Ripeness, Acidity, Quality]\n",
       "Index: []"
      ]
     },
     "execution_count": 7,
     "metadata": {},
     "output_type": "execute_result"
    }
   ],
   "source": [
    "#checking for duplicates\n",
    "Fruit[Fruit.duplicated()]"
   ]
  },
  {
   "cell_type": "markdown",
   "id": "c6836ad5",
   "metadata": {},
   "source": [
    "# CREATING A CLASSIFICATION MODEL"
   ]
  },
  {
   "cell_type": "code",
   "execution_count": 17,
   "id": "2d5dba0f",
   "metadata": {},
   "outputs": [
    {
     "name": "stdout",
     "output_type": "stream",
     "text": [
      "Accuracy: 0.81\n",
      "Classification Report:\n",
      "              precision    recall  f1-score   support\n",
      "\n",
      "         bad       0.81      0.81      0.81       401\n",
      "        good       0.81      0.81      0.81       399\n",
      "\n",
      "    accuracy                           0.81       800\n",
      "   macro avg       0.81      0.81      0.81       800\n",
      "weighted avg       0.81      0.81      0.81       800\n",
      "\n"
     ]
    }
   ],
   "source": [
    "# Importing the necessary libraries\n",
    "from sklearn.model_selection import train_test_split\n",
    "from sklearn.tree import DecisionTreeClassifier\n",
    "from sklearn.metrics import accuracy_score, classification_report\n",
    "\n",
    "\n",
    "# Extracting features (X) and target variable (Y)\n",
    "X = Fruit[['Size', 'Weight', 'Sweetness', 'Crunchiness', 'Juiciness', 'Ripeness', 'Acidity']]\n",
    "y = Fruit['Quality']\n",
    "\n",
    "# Splitting the dataset into training and testing sets\n",
    "X_train, X_test, y_train, y_test = train_test_split(X, y, test_size=0.2, random_state=42)\n",
    "\n",
    "# Initializing the Decision Tree Classifier\n",
    "clf = DecisionTreeClassifier(random_state=42)\n",
    "\n",
    "# Fit the model on the training data\n",
    "clf.fit(X_train, y_train)\n",
    "\n",
    "# Make predictions on the testing data\n",
    "y_pred = clf.predict(X_test)\n",
    "\n",
    "# Evaluating the model\n",
    "accuracy = accuracy_score(y_test, y_pred)\n",
    "classification_report_result = classification_report(y_test, y_pred)\n",
    "\n",
    "# Printing the results\n",
    "print(f\"Accuracy: {accuracy:.2f}\")\n",
    "print(\"Classification Report:\")\n",
    "print(classification_report_result)\n"
   ]
  },
  {
   "cell_type": "markdown",
   "id": "0f446945",
   "metadata": {},
   "source": [
    "### Accuracy:\n",
    "###### Accuracy: 0.81\n",
    "This represents the overall correctness of the model, where 81% of the predictions on the test set were correct.\n",
    "\n",
    "### Precision:\n",
    "###### Precision for \"bad\" class: 0.81\n",
    "Precision for \"good\" class: 0.81\n",
    "Precision is the ratio of correctly predicted positive observations to the total predicted positives. In this context, it indicates that when the model predicts a fruit to be either \"bad\" or \"good,\" it is correct about 81% of the time.\n",
    "\n",
    "### Recall:\n",
    "###### Recall for \"bad\" class: 0.81\n",
    "Recall for \"good\" class: 0.81\n",
    "Recall, also known as sensitivity or true positive rate, is the ratio of correctly predicted positive observations to the all observations in the actual class. In this context, it means the model correctly identifies about 81% of the actual \"bad\" fruits and 81% of the actual \"good\" fruits.\n",
    "\n",
    "### F1-Score:\n",
    "###### F1-score for \"bad\" class: 0.81\n",
    "F1-score for \"good\" class: 0.81\n",
    "F1-score is the weighted average of precision and recall. It provides a balance between precision and recall. The maximum value is 1, indicating perfect precision and recall.\n",
    "\n",
    "### Support:\n",
    "The number of actual occurrences of each class in the specified order. For \"bad\" class, there are 401 instances, and for \"good\" class, there are 399 instances in the test set.\n",
    "Macro avg:\n",
    "\n",
    "\n",
    "\n",
    "\n",
    "###### Overall, an accuracy of 0.81 is a decent performance, but it's important to consider the specific requirements of your application. If the classes are imbalanced, you might want to look at precision, recall, and F1-score for each class to get a more detailed understanding of the model's performance."
   ]
  },
  {
   "cell_type": "markdown",
   "id": "5c01e41a",
   "metadata": {},
   "source": [
    "# MAKING PREDICTIONS WITH THE MODEL"
   ]
  },
  {
   "cell_type": "code",
   "execution_count": 26,
   "id": "e39f2b28",
   "metadata": {},
   "outputs": [
    {
     "name": "stdout",
     "output_type": "stream",
     "text": [
      "Predicted Quality: bad\n"
     ]
    }
   ],
   "source": [
    "# Inputing values for a new fruit\n",
    "new_fruit_features = [[-2.0, -1.0, 3.5, 0.5, 2.0, 0.0, 1.5]]  # Replace these values with your own\n",
    "\n",
    "# Creating a DataFrame with feature names\n",
    "new_fruit_features_df = pd.DataFrame(data=new_fruit_features, columns=['Size', 'Weight', 'Sweetness', 'Crunchiness', 'Juiciness', 'Ripeness', 'Acidity'])\n",
    "\n",
    "# Making predictions\n",
    "prediction = clf.predict(new_fruit_features_df)\n",
    "\n",
    "# Printing the predicted class\n",
    "print(\"Predicted Quality:\", prediction[0])\n"
   ]
  }
 ],
 "metadata": {
  "kernelspec": {
   "display_name": "Python 3 (ipykernel)",
   "language": "python",
   "name": "python3"
  },
  "language_info": {
   "codemirror_mode": {
    "name": "ipython",
    "version": 3
   },
   "file_extension": ".py",
   "mimetype": "text/x-python",
   "name": "python",
   "nbconvert_exporter": "python",
   "pygments_lexer": "ipython3",
   "version": "3.11.5"
  }
 },
 "nbformat": 4,
 "nbformat_minor": 5
}
