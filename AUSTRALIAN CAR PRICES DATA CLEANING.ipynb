{
 "cells": [
  {
   "cell_type": "markdown",
   "id": "4490295a",
   "metadata": {},
   "source": [
    "# OVERVIEW OF DATASET"
   ]
  },
  {
   "cell_type": "markdown",
   "id": "98919136",
   "metadata": {},
   "source": [
    "###### A comprehensive dataset for exploring the car market in Australia."
   ]
  },
  {
   "cell_type": "markdown",
   "id": "03302842",
   "metadata": {},
   "source": [
    "This dataset contains the latest information on car prices in Australia for the year 2023. It covers various brands, models, types, and features of cars sold in the Australian market. It provides useful insights into the trends and factors influencing the car prices in Australia. The dataset includes information such as brand, year, model, car/suv, title, used/new, transmission, engine, drive type, fuel type, fuel consumption, kilometres, colour (exterior/interior), location, cylinders in engine, body type, doors, seats, and price. The dataset has over 16,000 records of car listings from various online platforms in Australia."
   ]
  },
  {
   "cell_type": "code",
   "execution_count": 1,
   "id": "4ebc6c81",
   "metadata": {},
   "outputs": [],
   "source": [
    "# importing necesarry libraries\n",
    "import pandas as pd\n",
    "import numpy as np"
   ]
  },
  {
   "cell_type": "code",
   "execution_count": 2,
   "id": "eaecce5e",
   "metadata": {},
   "outputs": [
    {
     "data": {
      "text/html": [
       "<div>\n",
       "<style scoped>\n",
       "    .dataframe tbody tr th:only-of-type {\n",
       "        vertical-align: middle;\n",
       "    }\n",
       "\n",
       "    .dataframe tbody tr th {\n",
       "        vertical-align: top;\n",
       "    }\n",
       "\n",
       "    .dataframe thead th {\n",
       "        text-align: right;\n",
       "    }\n",
       "</style>\n",
       "<table border=\"1\" class=\"dataframe\">\n",
       "  <thead>\n",
       "    <tr style=\"text-align: right;\">\n",
       "      <th></th>\n",
       "      <th>Brand</th>\n",
       "      <th>Year</th>\n",
       "      <th>Model</th>\n",
       "      <th>Car/Suv</th>\n",
       "      <th>Title</th>\n",
       "      <th>UsedOrNew</th>\n",
       "      <th>Transmission</th>\n",
       "      <th>Engine</th>\n",
       "      <th>DriveType</th>\n",
       "      <th>FuelType</th>\n",
       "      <th>FuelConsumption</th>\n",
       "      <th>Kilometres</th>\n",
       "      <th>ColourExtInt</th>\n",
       "      <th>Location</th>\n",
       "      <th>CylindersinEngine</th>\n",
       "      <th>BodyType</th>\n",
       "      <th>Doors</th>\n",
       "      <th>Seats</th>\n",
       "      <th>Price</th>\n",
       "    </tr>\n",
       "  </thead>\n",
       "  <tbody>\n",
       "    <tr>\n",
       "      <th>0</th>\n",
       "      <td>Ssangyong</td>\n",
       "      <td>2022.0</td>\n",
       "      <td>Rexton</td>\n",
       "      <td>Sutherland Isuzu Ute</td>\n",
       "      <td>2022 Ssangyong Rexton Ultimate (awd)</td>\n",
       "      <td>DEMO</td>\n",
       "      <td>Automatic</td>\n",
       "      <td>4 cyl, 2.2 L</td>\n",
       "      <td>AWD</td>\n",
       "      <td>Diesel</td>\n",
       "      <td>8.7 L / 100 km</td>\n",
       "      <td>5595</td>\n",
       "      <td>White / Black</td>\n",
       "      <td>Caringbah, NSW</td>\n",
       "      <td>4 cyl</td>\n",
       "      <td>SUV</td>\n",
       "      <td>4 Doors</td>\n",
       "      <td>7 Seats</td>\n",
       "      <td>51990</td>\n",
       "    </tr>\n",
       "    <tr>\n",
       "      <th>1</th>\n",
       "      <td>MG</td>\n",
       "      <td>2022.0</td>\n",
       "      <td>MG3</td>\n",
       "      <td>Hatchback</td>\n",
       "      <td>2022 MG MG3 Auto Excite (with Navigation)</td>\n",
       "      <td>USED</td>\n",
       "      <td>Automatic</td>\n",
       "      <td>4 cyl, 1.5 L</td>\n",
       "      <td>Front</td>\n",
       "      <td>Premium</td>\n",
       "      <td>6.7 L / 100 km</td>\n",
       "      <td>16</td>\n",
       "      <td>Black / Black</td>\n",
       "      <td>Brookvale, NSW</td>\n",
       "      <td>4 cyl</td>\n",
       "      <td>Hatchback</td>\n",
       "      <td>5 Doors</td>\n",
       "      <td>5 Seats</td>\n",
       "      <td>19990</td>\n",
       "    </tr>\n",
       "    <tr>\n",
       "      <th>2</th>\n",
       "      <td>BMW</td>\n",
       "      <td>2022.0</td>\n",
       "      <td>430I</td>\n",
       "      <td>Coupe</td>\n",
       "      <td>2022 BMW 430I M Sport</td>\n",
       "      <td>USED</td>\n",
       "      <td>Automatic</td>\n",
       "      <td>4 cyl, 2 L</td>\n",
       "      <td>Rear</td>\n",
       "      <td>Premium</td>\n",
       "      <td>6.6 L / 100 km</td>\n",
       "      <td>8472</td>\n",
       "      <td>Grey / White</td>\n",
       "      <td>Sylvania, NSW</td>\n",
       "      <td>4 cyl</td>\n",
       "      <td>Coupe</td>\n",
       "      <td>2 Doors</td>\n",
       "      <td>4 Seats</td>\n",
       "      <td>108988</td>\n",
       "    </tr>\n",
       "    <tr>\n",
       "      <th>3</th>\n",
       "      <td>Mercedes-Benz</td>\n",
       "      <td>2011.0</td>\n",
       "      <td>E500</td>\n",
       "      <td>Coupe</td>\n",
       "      <td>2011 Mercedes-Benz E500 Elegance</td>\n",
       "      <td>USED</td>\n",
       "      <td>Automatic</td>\n",
       "      <td>8 cyl, 5.5 L</td>\n",
       "      <td>Rear</td>\n",
       "      <td>Premium</td>\n",
       "      <td>11 L / 100 km</td>\n",
       "      <td>136517</td>\n",
       "      <td>White / Brown</td>\n",
       "      <td>Mount Druitt, NSW</td>\n",
       "      <td>8 cyl</td>\n",
       "      <td>Coupe</td>\n",
       "      <td>2 Doors</td>\n",
       "      <td>4 Seats</td>\n",
       "      <td>32990</td>\n",
       "    </tr>\n",
       "    <tr>\n",
       "      <th>4</th>\n",
       "      <td>Renault</td>\n",
       "      <td>2022.0</td>\n",
       "      <td>Arkana</td>\n",
       "      <td>SUV</td>\n",
       "      <td>2022 Renault Arkana Intens</td>\n",
       "      <td>USED</td>\n",
       "      <td>Automatic</td>\n",
       "      <td>4 cyl, 1.3 L</td>\n",
       "      <td>Front</td>\n",
       "      <td>Unleaded</td>\n",
       "      <td>6 L / 100 km</td>\n",
       "      <td>1035</td>\n",
       "      <td>Grey / Black</td>\n",
       "      <td>Castle Hill, NSW</td>\n",
       "      <td>4 cyl</td>\n",
       "      <td>SUV</td>\n",
       "      <td>4 Doors</td>\n",
       "      <td>5 Seats</td>\n",
       "      <td>34990</td>\n",
       "    </tr>\n",
       "    <tr>\n",
       "      <th>5</th>\n",
       "      <td>Toyota</td>\n",
       "      <td>2004.0</td>\n",
       "      <td>Estima</td>\n",
       "      <td>ON FOUR WHEELS</td>\n",
       "      <td>2004 Toyota Estima T EDITION</td>\n",
       "      <td>USED</td>\n",
       "      <td>Automatic</td>\n",
       "      <td>-</td>\n",
       "      <td>Other</td>\n",
       "      <td>Unleaded</td>\n",
       "      <td>-</td>\n",
       "      <td>160230</td>\n",
       "      <td>Grey / -</td>\n",
       "      <td>Saint Marys, NSW</td>\n",
       "      <td>-</td>\n",
       "      <td>Commercial</td>\n",
       "      <td>NaN</td>\n",
       "      <td>NaN</td>\n",
       "      <td>9990</td>\n",
       "    </tr>\n",
       "    <tr>\n",
       "      <th>6</th>\n",
       "      <td>Land</td>\n",
       "      <td>2017.0</td>\n",
       "      <td>Rover</td>\n",
       "      <td>SUV</td>\n",
       "      <td>2017 Land Rover Range Rover Evoque TD4 180 HSE...</td>\n",
       "      <td>USED</td>\n",
       "      <td>Automatic</td>\n",
       "      <td>4 cyl, 2 L</td>\n",
       "      <td>AWD</td>\n",
       "      <td>Diesel</td>\n",
       "      <td>5.1 L / 100 km</td>\n",
       "      <td>67662</td>\n",
       "      <td>White / Black</td>\n",
       "      <td>Blacktown, NSW</td>\n",
       "      <td>4 cyl</td>\n",
       "      <td>SUV</td>\n",
       "      <td>2 Doors</td>\n",
       "      <td>4 Seats</td>\n",
       "      <td>62280</td>\n",
       "    </tr>\n",
       "    <tr>\n",
       "      <th>7</th>\n",
       "      <td>Nissan</td>\n",
       "      <td>2000.0</td>\n",
       "      <td>Pulsar</td>\n",
       "      <td>Hatchback</td>\n",
       "      <td>2000 Nissan Pulsar LX</td>\n",
       "      <td>USED</td>\n",
       "      <td>Automatic</td>\n",
       "      <td>4 cyl, 1.6 L</td>\n",
       "      <td>Front</td>\n",
       "      <td>Unleaded</td>\n",
       "      <td>8 L / 100 km</td>\n",
       "      <td>300539</td>\n",
       "      <td>Red / Grey</td>\n",
       "      <td>Wentworthville, NSW</td>\n",
       "      <td>4 cyl</td>\n",
       "      <td>Hatchback</td>\n",
       "      <td>5 Doors</td>\n",
       "      <td>5 Seats</td>\n",
       "      <td>2995</td>\n",
       "    </tr>\n",
       "    <tr>\n",
       "      <th>8</th>\n",
       "      <td>Toyota</td>\n",
       "      <td>2013.0</td>\n",
       "      <td>86</td>\n",
       "      <td>Coupe</td>\n",
       "      <td>2013 Toyota 86 GT</td>\n",
       "      <td>USED</td>\n",
       "      <td>Automatic</td>\n",
       "      <td>4 cyl, 2 L</td>\n",
       "      <td>Rear</td>\n",
       "      <td>Premium</td>\n",
       "      <td>7.1 L / 100 km</td>\n",
       "      <td>82012</td>\n",
       "      <td>Black / -</td>\n",
       "      <td>Mcgraths Hill, NSW</td>\n",
       "      <td>4 cyl</td>\n",
       "      <td>Coupe</td>\n",
       "      <td>2 Doors</td>\n",
       "      <td>4 Seats</td>\n",
       "      <td>24888</td>\n",
       "    </tr>\n",
       "    <tr>\n",
       "      <th>9</th>\n",
       "      <td>Honda</td>\n",
       "      <td>2014.0</td>\n",
       "      <td>Jazz</td>\n",
       "      <td>Hatchback</td>\n",
       "      <td>2014 Honda Jazz Hybrid</td>\n",
       "      <td>USED</td>\n",
       "      <td>Automatic</td>\n",
       "      <td>4 cyl, 1.3 L</td>\n",
       "      <td>Front</td>\n",
       "      <td>Hybrid</td>\n",
       "      <td>4.5 L / 100 km</td>\n",
       "      <td>38229</td>\n",
       "      <td>Blue / -</td>\n",
       "      <td>Lidcombe, NSW</td>\n",
       "      <td>4 cyl</td>\n",
       "      <td>Hatchback</td>\n",
       "      <td>5 Doors</td>\n",
       "      <td>5 Seats</td>\n",
       "      <td>17900</td>\n",
       "    </tr>\n",
       "  </tbody>\n",
       "</table>\n",
       "</div>"
      ],
      "text/plain": [
       "           Brand    Year   Model               Car/Suv  \\\n",
       "0      Ssangyong  2022.0  Rexton  Sutherland Isuzu Ute   \n",
       "1             MG  2022.0     MG3             Hatchback   \n",
       "2            BMW  2022.0    430I                 Coupe   \n",
       "3  Mercedes-Benz  2011.0    E500                 Coupe   \n",
       "4        Renault  2022.0  Arkana                   SUV   \n",
       "5         Toyota  2004.0  Estima        ON FOUR WHEELS   \n",
       "6           Land  2017.0   Rover                   SUV   \n",
       "7         Nissan  2000.0  Pulsar             Hatchback   \n",
       "8         Toyota  2013.0      86                 Coupe   \n",
       "9          Honda  2014.0    Jazz             Hatchback   \n",
       "\n",
       "                                               Title UsedOrNew Transmission  \\\n",
       "0               2022 Ssangyong Rexton Ultimate (awd)      DEMO    Automatic   \n",
       "1          2022 MG MG3 Auto Excite (with Navigation)      USED    Automatic   \n",
       "2                              2022 BMW 430I M Sport      USED    Automatic   \n",
       "3                   2011 Mercedes-Benz E500 Elegance      USED    Automatic   \n",
       "4                         2022 Renault Arkana Intens      USED    Automatic   \n",
       "5                       2004 Toyota Estima T EDITION      USED    Automatic   \n",
       "6  2017 Land Rover Range Rover Evoque TD4 180 HSE...      USED    Automatic   \n",
       "7                              2000 Nissan Pulsar LX      USED    Automatic   \n",
       "8                                  2013 Toyota 86 GT      USED    Automatic   \n",
       "9                             2014 Honda Jazz Hybrid      USED    Automatic   \n",
       "\n",
       "         Engine DriveType  FuelType FuelConsumption Kilometres   ColourExtInt  \\\n",
       "0  4 cyl, 2.2 L       AWD    Diesel  8.7 L / 100 km       5595  White / Black   \n",
       "1  4 cyl, 1.5 L     Front   Premium  6.7 L / 100 km         16  Black / Black   \n",
       "2    4 cyl, 2 L      Rear   Premium  6.6 L / 100 km       8472   Grey / White   \n",
       "3  8 cyl, 5.5 L      Rear   Premium   11 L / 100 km     136517  White / Brown   \n",
       "4  4 cyl, 1.3 L     Front  Unleaded    6 L / 100 km       1035   Grey / Black   \n",
       "5             -     Other  Unleaded               -     160230       Grey / -   \n",
       "6    4 cyl, 2 L       AWD    Diesel  5.1 L / 100 km      67662  White / Black   \n",
       "7  4 cyl, 1.6 L     Front  Unleaded    8 L / 100 km     300539     Red / Grey   \n",
       "8    4 cyl, 2 L      Rear   Premium  7.1 L / 100 km      82012      Black / -   \n",
       "9  4 cyl, 1.3 L     Front    Hybrid  4.5 L / 100 km      38229       Blue / -   \n",
       "\n",
       "              Location CylindersinEngine    BodyType     Doors     Seats  \\\n",
       "0       Caringbah, NSW             4 cyl         SUV   4 Doors   7 Seats   \n",
       "1       Brookvale, NSW             4 cyl   Hatchback   5 Doors   5 Seats   \n",
       "2        Sylvania, NSW             4 cyl       Coupe   2 Doors   4 Seats   \n",
       "3    Mount Druitt, NSW             8 cyl       Coupe   2 Doors   4 Seats   \n",
       "4     Castle Hill, NSW             4 cyl         SUV   4 Doors   5 Seats   \n",
       "5     Saint Marys, NSW                 -  Commercial       NaN       NaN   \n",
       "6       Blacktown, NSW             4 cyl         SUV   2 Doors   4 Seats   \n",
       "7  Wentworthville, NSW             4 cyl   Hatchback   5 Doors   5 Seats   \n",
       "8   Mcgraths Hill, NSW             4 cyl       Coupe   2 Doors   4 Seats   \n",
       "9        Lidcombe, NSW             4 cyl   Hatchback   5 Doors   5 Seats   \n",
       "\n",
       "    Price  \n",
       "0   51990  \n",
       "1   19990  \n",
       "2  108988  \n",
       "3   32990  \n",
       "4   34990  \n",
       "5    9990  \n",
       "6   62280  \n",
       "7    2995  \n",
       "8   24888  \n",
       "9   17900  "
      ]
     },
     "execution_count": 2,
     "metadata": {},
     "output_type": "execute_result"
    }
   ],
   "source": [
    "# Reading a CSV file named 'Australian Vehicle Prices.csv' and storing the data in the variable AU_Car_Price\n",
    "AU_Car_Price = pd.read_csv('Australian Vehicle Prices.csv')\n",
    "\n",
    "# Displaying the first 10 rows of the DataFrame to get an overview of the data\n",
    "AU_Car_Price.head(10)"
   ]
  },
  {
   "cell_type": "code",
   "execution_count": 3,
   "id": "694dba2e",
   "metadata": {},
   "outputs": [
    {
     "data": {
      "text/plain": [
       "(16734, 19)"
      ]
     },
     "execution_count": 3,
     "metadata": {},
     "output_type": "execute_result"
    }
   ],
   "source": [
    "#checking the number of rows and columns in the dataframe\n",
    "AU_Car_Price.shape"
   ]
  },
  {
   "cell_type": "code",
   "execution_count": 4,
   "id": "90ecd0c2",
   "metadata": {},
   "outputs": [
    {
     "name": "stdout",
     "output_type": "stream",
     "text": [
      "<class 'pandas.core.frame.DataFrame'>\n",
      "RangeIndex: 16734 entries, 0 to 16733\n",
      "Data columns (total 19 columns):\n",
      " #   Column             Non-Null Count  Dtype  \n",
      "---  ------             --------------  -----  \n",
      " 0   Brand              16733 non-null  object \n",
      " 1   Year               16733 non-null  float64\n",
      " 2   Model              16733 non-null  object \n",
      " 3   Car/Suv            16706 non-null  object \n",
      " 4   Title              16733 non-null  object \n",
      " 5   UsedOrNew          16733 non-null  object \n",
      " 6   Transmission       16733 non-null  object \n",
      " 7   Engine             16733 non-null  object \n",
      " 8   DriveType          16733 non-null  object \n",
      " 9   FuelType           16733 non-null  object \n",
      " 10  FuelConsumption    16733 non-null  object \n",
      " 11  Kilometres         16733 non-null  object \n",
      " 12  ColourExtInt       16733 non-null  object \n",
      " 13  Location           16284 non-null  object \n",
      " 14  CylindersinEngine  16733 non-null  object \n",
      " 15  BodyType           16452 non-null  object \n",
      " 16  Doors              15130 non-null  object \n",
      " 17  Seats              15029 non-null  object \n",
      " 18  Price              16731 non-null  object \n",
      "dtypes: float64(1), object(18)\n",
      "memory usage: 2.4+ MB\n"
     ]
    }
   ],
   "source": [
    "# Displaying information about the DataFrame AU_Car_Price, including data types and non-null counts\n",
    "AU_Car_Price.info()\n"
   ]
  },
  {
   "cell_type": "markdown",
   "id": "680d1521",
   "metadata": {},
   "source": [
    "# DATA CLEANING"
   ]
  },
  {
   "cell_type": "markdown",
   "id": "938cbaee",
   "metadata": {},
   "source": [
    "### Handling Missing Values"
   ]
  },
  {
   "cell_type": "code",
   "execution_count": 5,
   "id": "b211b6d6",
   "metadata": {},
   "outputs": [
    {
     "name": "stdout",
     "output_type": "stream",
     "text": [
      "Brand                   1\n",
      "Year                    1\n",
      "Model                   1\n",
      "Car/Suv                28\n",
      "Title                   1\n",
      "UsedOrNew               1\n",
      "Transmission            1\n",
      "Engine                  1\n",
      "DriveType               1\n",
      "FuelType                1\n",
      "FuelConsumption         1\n",
      "Kilometres              1\n",
      "ColourExtInt            1\n",
      "Location              450\n",
      "CylindersinEngine       1\n",
      "BodyType              282\n",
      "Doors                1604\n",
      "Seats                1705\n",
      "Price                   3\n",
      "dtype: int64\n"
     ]
    }
   ],
   "source": [
    "# Checking for the sum of missing values in each column of the DataFrame AU_Car_Price\n",
    "missing_values = AU_Car_Price.isnull().sum()\n",
    "\n",
    "# Displaying the count of missing values for each column\n",
    "print(missing_values)\n"
   ]
  },
  {
   "cell_type": "code",
   "execution_count": 6,
   "id": "5c504340",
   "metadata": {},
   "outputs": [
    {
     "data": {
      "text/plain": [
       "Index(['Brand', 'Year', 'Model', 'Car/Suv', 'Title', 'UsedOrNew',\n",
       "       'Transmission', 'Engine', 'DriveType', 'FuelType', 'FuelConsumption',\n",
       "       'Kilometres', 'ColourExtInt', 'Location', 'CylindersinEngine',\n",
       "       'BodyType', 'Doors', 'Seats', 'Price'],\n",
       "      dtype='object')"
      ]
     },
     "execution_count": 6,
     "metadata": {},
     "output_type": "execute_result"
    }
   ],
   "source": [
    "# Accessing the column names of the DataFrame\n",
    "AU_Car_Price.columns"
   ]
  },
  {
   "cell_type": "code",
   "execution_count": 7,
   "id": "8c2fd839",
   "metadata": {},
   "outputs": [],
   "source": [
    "# Dropping rows with null values in the specified columns\n",
    "AU_Car_Price.dropna(subset=['Brand', 'Year', 'Car/Suv', 'Transmission', 'DriveType', 'Kilometres', 'FuelConsumption', 'Price', 'UsedOrNew', 'CylindersinEngine', 'BodyType'], inplace = True)\n"
   ]
  },
  {
   "cell_type": "code",
   "execution_count": 8,
   "id": "5e494c3b",
   "metadata": {},
   "outputs": [
    {
     "data": {
      "text/plain": [
       "Brand                   0\n",
       "Year                    0\n",
       "Model                   0\n",
       "Car/Suv                 0\n",
       "Title                   0\n",
       "UsedOrNew               0\n",
       "Transmission            0\n",
       "Engine                  0\n",
       "DriveType               0\n",
       "FuelType                0\n",
       "FuelConsumption         0\n",
       "Kilometres              0\n",
       "ColourExtInt            0\n",
       "Location              436\n",
       "CylindersinEngine       0\n",
       "BodyType                0\n",
       "Doors                1321\n",
       "Seats                1422\n",
       "Price                   0\n",
       "dtype: int64"
      ]
     },
     "execution_count": 8,
     "metadata": {},
     "output_type": "execute_result"
    }
   ],
   "source": [
    "#Checking to see if the rows with missing values in the specified columns have been dropped\n",
    "AU_Car_Price.isnull().sum()"
   ]
  },
  {
   "cell_type": "markdown",
   "id": "a922cdae",
   "metadata": {},
   "source": [
    "### Handling Duplicates"
   ]
  },
  {
   "cell_type": "code",
   "execution_count": 9,
   "id": "78418235",
   "metadata": {},
   "outputs": [
    {
     "data": {
      "text/html": [
       "<div>\n",
       "<style scoped>\n",
       "    .dataframe tbody tr th:only-of-type {\n",
       "        vertical-align: middle;\n",
       "    }\n",
       "\n",
       "    .dataframe tbody tr th {\n",
       "        vertical-align: top;\n",
       "    }\n",
       "\n",
       "    .dataframe thead th {\n",
       "        text-align: right;\n",
       "    }\n",
       "</style>\n",
       "<table border=\"1\" class=\"dataframe\">\n",
       "  <thead>\n",
       "    <tr style=\"text-align: right;\">\n",
       "      <th></th>\n",
       "      <th>Brand</th>\n",
       "      <th>Year</th>\n",
       "      <th>Model</th>\n",
       "      <th>Car/Suv</th>\n",
       "      <th>Title</th>\n",
       "      <th>UsedOrNew</th>\n",
       "      <th>Transmission</th>\n",
       "      <th>Engine</th>\n",
       "      <th>DriveType</th>\n",
       "      <th>FuelType</th>\n",
       "      <th>FuelConsumption</th>\n",
       "      <th>Kilometres</th>\n",
       "      <th>ColourExtInt</th>\n",
       "      <th>Location</th>\n",
       "      <th>CylindersinEngine</th>\n",
       "      <th>BodyType</th>\n",
       "      <th>Doors</th>\n",
       "      <th>Seats</th>\n",
       "      <th>Price</th>\n",
       "    </tr>\n",
       "  </thead>\n",
       "  <tbody>\n",
       "  </tbody>\n",
       "</table>\n",
       "</div>"
      ],
      "text/plain": [
       "Empty DataFrame\n",
       "Columns: [Brand, Year, Model, Car/Suv, Title, UsedOrNew, Transmission, Engine, DriveType, FuelType, FuelConsumption, Kilometres, ColourExtInt, Location, CylindersinEngine, BodyType, Doors, Seats, Price]\n",
       "Index: []"
      ]
     },
     "execution_count": 9,
     "metadata": {},
     "output_type": "execute_result"
    }
   ],
   "source": [
    "# Identifying and displaying duplicate rows in the DataFrame\n",
    "AU_Car_Price[AU_Car_Price.duplicated()]"
   ]
  },
  {
   "cell_type": "markdown",
   "id": "656f9952",
   "metadata": {},
   "source": [
    "### Checking for Unique Values in Columns"
   ]
  },
  {
   "cell_type": "code",
   "execution_count": 10,
   "id": "2a33045d",
   "metadata": {},
   "outputs": [
    {
     "data": {
      "text/plain": [
       "array(['Ssangyong', 'MG', 'BMW', 'Mercedes-Benz', 'Renault', 'Toyota',\n",
       "       'Land', 'Nissan', 'Honda', 'Volkswagen', 'Mitsubishi', 'Ford',\n",
       "       'Subaru', 'Hyundai', 'Jeep', 'Volvo', 'Mazda', 'Abarth', 'Holden',\n",
       "       'Audi', 'Kia', 'Mini', 'Peugeot', 'Suzuki', 'Dodge', 'Porsche',\n",
       "       'Isuzu', 'Lexus', 'Jaguar', 'Rolls-Royce', 'Skoda', 'Fiat',\n",
       "       'Haval', 'Citroen', 'LDV', 'HSV', 'Foton', 'Mahindra', 'Maserati',\n",
       "       'Alfa', 'GWM', 'Ram', 'Tesla', 'Genesis', 'Chrysler', 'Great',\n",
       "       'Opel', 'Bentley', 'Rover', 'Ferrari', 'Cupra', 'Chevrolet',\n",
       "       'Lamborghini', 'FPV', 'McLaren', 'Chery', 'Iveco', 'Infiniti',\n",
       "       'BYD', 'Tata', 'Aston', 'Daewoo', 'Saab', 'Proton', 'Smart',\n",
       "       'Daihatsu', 'Ineos', 'Caterham', 'Hino', 'International', 'Lotus',\n",
       "       'Polestar'], dtype=object)"
      ]
     },
     "execution_count": 10,
     "metadata": {},
     "output_type": "execute_result"
    }
   ],
   "source": [
    "# Extracting the 'Brand' column from the DataFrame and finding unique values\n",
    "AU_Car_Price['Brand'].unique()"
   ]
  },
  {
   "cell_type": "markdown",
   "id": "09ea6f82",
   "metadata": {},
   "source": [
    "carried out this practice for other columns so as to identify some modifications to be made"
   ]
  },
  {
   "cell_type": "markdown",
   "id": "b38b3b96",
   "metadata": {},
   "source": [
    "### Stripping Characters from Columns"
   ]
  },
  {
   "cell_type": "code",
   "execution_count": 11,
   "id": "336b36f2",
   "metadata": {},
   "outputs": [],
   "source": [
    "# Stripping hyphen characters(-) from the 'Brand' column in the DataFrame AU_Car_Price\n",
    "AU_Car_Price['Transmission'].replace('-', '', inplace=True)"
   ]
  },
  {
   "cell_type": "code",
   "execution_count": 12,
   "id": "eb1d7e75",
   "metadata": {},
   "outputs": [
    {
     "data": {
      "text/plain": [
       "array(['Automatic', 'Manual', ''], dtype=object)"
      ]
     },
     "execution_count": 12,
     "metadata": {},
     "output_type": "execute_result"
    }
   ],
   "source": [
    "#Verifying the character has been removed\n",
    "AU_Car_Price['Transmission'].unique()"
   ]
  },
  {
   "cell_type": "code",
   "execution_count": 13,
   "id": "c3a8c4c9",
   "metadata": {},
   "outputs": [],
   "source": [
    "AU_Car_Price['CylindersinEngine'].replace('-cylL', '', inplace=True)"
   ]
  },
  {
   "cell_type": "code",
   "execution_count": 14,
   "id": "1c29fd89",
   "metadata": {},
   "outputs": [
    {
     "data": {
      "text/plain": [
       "array(['4 cyl', '8 cyl', '-', '3 cyl', '6 cyl', '5 cyl', '12 cyl', '0 L',\n",
       "       '2 cyl', '10 cyl'], dtype=object)"
      ]
     },
     "execution_count": 14,
     "metadata": {},
     "output_type": "execute_result"
    }
   ],
   "source": [
    "AU_Car_Price['CylindersinEngine'].unique()"
   ]
  },
  {
   "cell_type": "code",
   "execution_count": 15,
   "id": "a1b8c9c2",
   "metadata": {},
   "outputs": [],
   "source": [
    "# Stripping specified characters ('-', 'cyl', 'L') from the 'CylindersinEngine' column in the DataFrame AU_Car_Price\n",
    "AU_Car_Price['CylindersinEngine'].replace(['-', 'cyl', 'L'], '', regex=True, inplace=True)\n",
    "\n"
   ]
  },
  {
   "cell_type": "code",
   "execution_count": 16,
   "id": "d1204a8d",
   "metadata": {},
   "outputs": [
    {
     "data": {
      "text/plain": [
       "array(['4 ', '8 ', '', '3 ', '6 ', '5 ', '12 ', '0 ', '2 ', '10 '],\n",
       "      dtype=object)"
      ]
     },
     "execution_count": 16,
     "metadata": {},
     "output_type": "execute_result"
    }
   ],
   "source": [
    "#checking to verify if the characters have been removed\n",
    "AU_Car_Price['CylindersinEngine'].unique()"
   ]
  },
  {
   "cell_type": "code",
   "execution_count": 17,
   "id": "d09bf9f3",
   "metadata": {},
   "outputs": [],
   "source": [
    "#stripping all the whitespaces from the column\n",
    "AU_Car_Price['CylindersinEngine'] = AU_Car_Price['CylindersinEngine'].str.strip()"
   ]
  },
  {
   "cell_type": "code",
   "execution_count": 18,
   "id": "97738d08",
   "metadata": {},
   "outputs": [
    {
     "data": {
      "text/plain": [
       "array(['4', '8', '', '3', '6', '5', '12', '0', '2', '10'], dtype=object)"
      ]
     },
     "execution_count": 18,
     "metadata": {},
     "output_type": "execute_result"
    }
   ],
   "source": [
    "#checking to see if the whitespaces have been trimmed\n",
    "AU_Car_Price['CylindersinEngine'].unique()"
   ]
  },
  {
   "cell_type": "code",
   "execution_count": 19,
   "id": "fd5fd98a",
   "metadata": {},
   "outputs": [],
   "source": [
    "# Stripping specified characters ('L', '/', '100', 'km') from the 'FuelConsumption' column in the DataFrame AU_Car_Price\n",
    "# The replace() method is used to replace specified characters, and regex=True allows interpreting the first argument as a regular expression.\n",
    "# The characters to be replaced are specified in a list ['L', '/', '100', 'km'] and replaced with an empty string ('').\n",
    "# The inplace=True parameter ensures that the changes are applied directly to the DataFrame.\n",
    "AU_Car_Price['FuelConsumption'].replace(['L', '/','100', 'km'], '', regex=True, inplace=True)"
   ]
  },
  {
   "cell_type": "code",
   "execution_count": 20,
   "id": "5d7b0471",
   "metadata": {},
   "outputs": [
    {
     "data": {
      "text/plain": [
       "array(['8.7    ', '6.7    ', '6.6    ', '11    ', '6    ', '-', '5.1    ',\n",
       "       '8    ', '7.1    ', '4.5    ', '9.8    ', '6.2    ', '5.6    ',\n",
       "       '5.4    ', '7.5    ', '6.1    ', '8.4    ', '5.8    ', '4.7    ',\n",
       "       '7.9    ', '8.2    ', '6.9    ', '8.1    ', '4.2    ', '7.7    ',\n",
       "       '9.1    ', '0    ', '7.4    ', '7.6    ', '7.8    ', '9.9    ',\n",
       "       '10.9    ', '9.6    ', '10    ', '8.8    ', '6.4    ', '8.9    ',\n",
       "       '9    ', '6.3    ', '10.4    ', '7.2    ', '5.5    ', '14.5    ',\n",
       "       '5.9    ', '9.3    ', '11.5    ', '7.3    ', '9.2    ', '4.8    ',\n",
       "       '10.1    ', '8.3    ', '6.5    ', '8.6    ', '5.2    ', '4.9    ',\n",
       "       '8.5    ', '10.5    ', '10.3    ', '12.2    ', '7    ', '9.5    ',\n",
       "       '16    ', '9.4    ', '6.8    ', '4.6    ', '11.6    ', '5.3    ',\n",
       "       '9.7    ', '10.6    ', '11.8    ', '10.2    ', '3.3    ',\n",
       "       '5.7    ', '10.8    ', '13.6    ', '10.7    ', '11.3    ',\n",
       "       '14.6    ', '13    ', '4.1    ', '3.6    ', '12.1    ', '17.2    ',\n",
       "       '12.3    ', '12.8    ', '13.3    ', '12.7    ', '13.2    ',\n",
       "       '15.1    ', '3.9    ', '5    ', '14.8    ', '11.7    ', '16.4    ',\n",
       "       '13.7    ', '12.6    ', '11.2    ', '13.8    ', '4.4    ',\n",
       "       '11.1    ', '12.4    ', '4    ', '12    ', '3.8    ', '1.9    ',\n",
       "       '11.4    ', '13.5    ', '27    ', '11.9    ', '14.4    ',\n",
       "       '13.4    ', '14.9    ', '20    ', '15.4    ', '15.5    ',\n",
       "       '1.7    ', '12.5    ', '17    ', '16.8    ', '12.9    ',\n",
       "       '13.9    ', '13.1    ', '15    ', '17.1    ', '4.3    ',\n",
       "       '18.3    ', '14    ', '14.2    ', '15.2    ', '15.3    ',\n",
       "       '14.3    ', '15.7    ', '3.5    ', '2.6    ', '19.8    ',\n",
       "       '18.6    ', '16.2    ', '18.1    ', '2.4    ', '19.1    ',\n",
       "       '17.4    ', '16.9    ', '20.7    ', '19    ', '14.1    ',\n",
       "       '3.7    ', '16.5    ', '2.5    ', '3.4    ', '14.7    ',\n",
       "       '17.8    ', '1.6    ', '2.2    ', '3.2    ', '2.3    ', '16.6    ',\n",
       "       '15.8    '], dtype=object)"
      ]
     },
     "execution_count": 20,
     "metadata": {},
     "output_type": "execute_result"
    }
   ],
   "source": [
    "#checking if changes were effected\n",
    "AU_Car_Price['FuelConsumption'].unique()"
   ]
  },
  {
   "cell_type": "code",
   "execution_count": 21,
   "id": "cfd998ce",
   "metadata": {},
   "outputs": [],
   "source": [
    "#stripping white spaces\n",
    "AU_Car_Price['FuelConsumption'] = AU_Car_Price['FuelConsumption'].str.strip()"
   ]
  },
  {
   "cell_type": "code",
   "execution_count": 22,
   "id": "2e528f1d",
   "metadata": {
    "scrolled": true
   },
   "outputs": [
    {
     "data": {
      "text/plain": [
       "array(['8.7', '6.7', '6.6', '11', '6', '-', '5.1', '8', '7.1', '4.5',\n",
       "       '9.8', '6.2', '5.6', '5.4', '7.5', '6.1', '8.4', '5.8', '4.7',\n",
       "       '7.9', '8.2', '6.9', '8.1', '4.2', '7.7', '9.1', '0', '7.4', '7.6',\n",
       "       '7.8', '9.9', '10.9', '9.6', '10', '8.8', '6.4', '8.9', '9', '6.3',\n",
       "       '10.4', '7.2', '5.5', '14.5', '5.9', '9.3', '11.5', '7.3', '9.2',\n",
       "       '4.8', '10.1', '8.3', '6.5', '8.6', '5.2', '4.9', '8.5', '10.5',\n",
       "       '10.3', '12.2', '7', '9.5', '16', '9.4', '6.8', '4.6', '11.6',\n",
       "       '5.3', '9.7', '10.6', '11.8', '10.2', '3.3', '5.7', '10.8', '13.6',\n",
       "       '10.7', '11.3', '14.6', '13', '4.1', '3.6', '12.1', '17.2', '12.3',\n",
       "       '12.8', '13.3', '12.7', '13.2', '15.1', '3.9', '5', '14.8', '11.7',\n",
       "       '16.4', '13.7', '12.6', '11.2', '13.8', '4.4', '11.1', '12.4', '4',\n",
       "       '12', '3.8', '1.9', '11.4', '13.5', '27', '11.9', '14.4', '13.4',\n",
       "       '14.9', '20', '15.4', '15.5', '1.7', '12.5', '17', '16.8', '12.9',\n",
       "       '13.9', '13.1', '15', '17.1', '4.3', '18.3', '14', '14.2', '15.2',\n",
       "       '15.3', '14.3', '15.7', '3.5', '2.6', '19.8', '18.6', '16.2',\n",
       "       '18.1', '2.4', '19.1', '17.4', '16.9', '20.7', '19', '14.1', '3.7',\n",
       "       '16.5', '2.5', '3.4', '14.7', '17.8', '1.6', '2.2', '3.2', '2.3',\n",
       "       '16.6', '15.8'], dtype=object)"
      ]
     },
     "execution_count": 22,
     "metadata": {},
     "output_type": "execute_result"
    }
   ],
   "source": [
    "#checking if changes were effected\n",
    "AU_Car_Price['FuelConsumption'].unique()"
   ]
  },
  {
   "cell_type": "code",
   "execution_count": 23,
   "id": "0ed9b827",
   "metadata": {},
   "outputs": [
    {
     "data": {
      "text/plain": [
       "array(['Diesel', 'Premium', 'Unleaded', 'Hybrid', '', 'Other', 'Electric',\n",
       "       'LPG', 'Leaded'], dtype=object)"
      ]
     },
     "execution_count": 23,
     "metadata": {},
     "output_type": "execute_result"
    }
   ],
   "source": [
    "# Removing hyphen ('-') from the 'FuelType' column in the DataFrame AU_Car_Price\n",
    "AU_Car_Price['FuelType'].replace('-', '', inplace = True)\n",
    "# checking for to see if the changes have been effected\n",
    "AU_Car_Price['FuelType'].unique()"
   ]
  },
  {
   "cell_type": "markdown",
   "id": "2ee8f219",
   "metadata": {},
   "source": [
    "### CONVERTING THE DATA TYPES OF SOME COLUMNS TO NUMERIC FOR EASE OF CALCULATIONS"
   ]
  },
  {
   "cell_type": "markdown",
   "id": "5f939060",
   "metadata": {},
   "source": [
    "first convert all the other characters in the column to non-numeric values"
   ]
  },
  {
   "cell_type": "code",
   "execution_count": 24,
   "id": "e004f5f7",
   "metadata": {},
   "outputs": [],
   "source": [
    "# Converting the values in the 'Price' column to float in the DataFrame AU_Car_Price\n",
    "# The to_numeric() method is used with errors='coerce' to convert non-numeric values to NaN.\n",
    "AU_Car_Price['Price'] = pd.to_numeric(AU_Car_Price['Price'], errors='coerce')\n",
    "\n"
   ]
  },
  {
   "cell_type": "code",
   "execution_count": 25,
   "id": "b4b5d519",
   "metadata": {},
   "outputs": [
    {
     "data": {
      "text/plain": [
       "48"
      ]
     },
     "execution_count": 25,
     "metadata": {},
     "output_type": "execute_result"
    }
   ],
   "source": [
    "# Checking for the sum of null values (Nan)\n",
    "AU_Car_Price['Price'].isnull().sum()"
   ]
  },
  {
   "cell_type": "code",
   "execution_count": 26,
   "id": "b9cdac59",
   "metadata": {},
   "outputs": [],
   "source": [
    "# dropping all rows in the 'Price' Column where there are null values\n",
    "AU_Car_Price.dropna(subset=['Price'], inplace = True)"
   ]
  },
  {
   "cell_type": "code",
   "execution_count": 27,
   "id": "fccc4c7e",
   "metadata": {},
   "outputs": [
    {
     "data": {
      "text/plain": [
       "0"
      ]
     },
     "execution_count": 27,
     "metadata": {},
     "output_type": "execute_result"
    }
   ],
   "source": [
    "# Checking for the sum of null values (Nan)\n",
    "AU_Car_Price['Price'].isnull().sum()"
   ]
  },
  {
   "cell_type": "markdown",
   "id": "434d148a",
   "metadata": {},
   "source": [
    "then convert the data type"
   ]
  },
  {
   "cell_type": "code",
   "execution_count": 28,
   "id": "2179bf15",
   "metadata": {},
   "outputs": [],
   "source": [
    "# Converting the values in the 'Price' column to float in the DataFrame AU_Car_Price\n",
    "# The astype() method is used to change the data type of the 'Price' column to float.\n",
    "AU_Car_Price['Price'] = AU_Car_Price['Price'].astype(float)"
   ]
  },
  {
   "cell_type": "code",
   "execution_count": 29,
   "id": "c7906382",
   "metadata": {
    "scrolled": true
   },
   "outputs": [
    {
     "data": {
      "text/plain": [
       "dtype('float64')"
      ]
     },
     "execution_count": 29,
     "metadata": {},
     "output_type": "execute_result"
    }
   ],
   "source": [
    "#checking if the data type of the column has been converted to float\n",
    "AU_Car_Price['Price'].dtype"
   ]
  },
  {
   "cell_type": "markdown",
   "id": "cbdc79cb",
   "metadata": {},
   "source": [
    "###### Doing the same procedures for the 'Kilometers' and 'CylindersinEngine' row"
   ]
  },
  {
   "cell_type": "markdown",
   "id": "096d5574",
   "metadata": {},
   "source": [
    "Converting the data types in the Kilometres column"
   ]
  },
  {
   "cell_type": "code",
   "execution_count": 30,
   "id": "e7b07336",
   "metadata": {},
   "outputs": [],
   "source": [
    "# Converting the values in the 'Kilometres' column to numeric in the DataFrame AU_Car_Price\n",
    "# The to_numeric() method is used with errors='coerce' to convert non-numeric values to NaN.\n",
    "AU_Car_Price['Kilometres'] = pd.to_numeric(AU_Car_Price['Kilometres'], errors='coerce')"
   ]
  },
  {
   "cell_type": "code",
   "execution_count": 31,
   "id": "a8a790cb",
   "metadata": {},
   "outputs": [
    {
     "data": {
      "text/plain": [
       "551"
      ]
     },
     "execution_count": 31,
     "metadata": {},
     "output_type": "execute_result"
    }
   ],
   "source": [
    "#checking for the sum of null values in the 'Kilometres' column\n",
    "AU_Car_Price['Kilometres'].isnull().sum()"
   ]
  },
  {
   "cell_type": "code",
   "execution_count": 32,
   "id": "9e11a514",
   "metadata": {},
   "outputs": [],
   "source": [
    "#Droppin all rows with corresponding null values in the Kilometres column\n",
    "AU_Car_Price.dropna(subset=['Kilometres'], inplace=True)"
   ]
  },
  {
   "cell_type": "code",
   "execution_count": 33,
   "id": "fdc36cc8",
   "metadata": {},
   "outputs": [
    {
     "data": {
      "text/plain": [
       "0"
      ]
     },
     "execution_count": 33,
     "metadata": {},
     "output_type": "execute_result"
    }
   ],
   "source": [
    "#checking to confirm the null values have been dropped\n",
    "AU_Car_Price['Kilometres'].isnull().sum()"
   ]
  },
  {
   "cell_type": "code",
   "execution_count": 34,
   "id": "1c5d870a",
   "metadata": {},
   "outputs": [],
   "source": [
    "#converting the data type of the Kilometres column to float\n",
    "AU_Car_Price['Kilometres'] = AU_Car_Price['Kilometres'].astype(float)"
   ]
  },
  {
   "cell_type": "code",
   "execution_count": 35,
   "id": "ea89105a",
   "metadata": {},
   "outputs": [
    {
     "data": {
      "text/plain": [
       "dtype('float64')"
      ]
     },
     "execution_count": 35,
     "metadata": {},
     "output_type": "execute_result"
    }
   ],
   "source": [
    "#checking to see if the data type has been converted\n",
    "AU_Car_Price['Kilometres'].dtype"
   ]
  },
  {
   "cell_type": "markdown",
   "id": "046372af",
   "metadata": {},
   "source": [
    "Converting the data type in the CylindersinEngine column"
   ]
  },
  {
   "cell_type": "code",
   "execution_count": 36,
   "id": "dd8c9301",
   "metadata": {},
   "outputs": [],
   "source": [
    "AU_Car_Price['CylindersinEngine'] = pd.to_numeric(AU_Car_Price['CylindersinEngine'], errors='coerce')"
   ]
  },
  {
   "cell_type": "code",
   "execution_count": 37,
   "id": "01ab238d",
   "metadata": {},
   "outputs": [
    {
     "data": {
      "text/plain": [
       "Index(['Brand', 'Year', 'Model', 'Car/Suv', 'Title', 'UsedOrNew',\n",
       "       'Transmission', 'Engine', 'DriveType', 'FuelType', 'FuelConsumption',\n",
       "       'Kilometres', 'ColourExtInt', 'Location', 'CylindersinEngine',\n",
       "       'BodyType', 'Doors', 'Seats', 'Price'],\n",
       "      dtype='object')"
      ]
     },
     "execution_count": 37,
     "metadata": {},
     "output_type": "execute_result"
    }
   ],
   "source": [
    "AU_Car_Price.columns"
   ]
  },
  {
   "cell_type": "markdown",
   "id": "7a8510fc",
   "metadata": {},
   "source": [
    "### RENAMING COLUMNS"
   ]
  },
  {
   "cell_type": "code",
   "execution_count": 38,
   "id": "a7bdb1a2",
   "metadata": {},
   "outputs": [],
   "source": [
    "#Renaming the 'FuelConsumption' column header in the DataFrame AU_Car_Price to 'FuelConsumption(L/100km)'\n",
    "AU_Car_Price.rename(columns={'FuelConsumption': 'FuelConsumption(L/100km)'}, inplace=True)"
   ]
  },
  {
   "cell_type": "code",
   "execution_count": 39,
   "id": "081e0eaa",
   "metadata": {},
   "outputs": [],
   "source": [
    "#Renaming the 'Kilometres' column header to 'Mileage(km)'\n",
    "AU_Car_Price.rename(columns={'Kilometres': 'Mileage(km)'}, inplace=True)"
   ]
  },
  {
   "cell_type": "code",
   "execution_count": 40,
   "id": "cbbc2145",
   "metadata": {},
   "outputs": [
    {
     "data": {
      "text/plain": [
       "Index(['Brand', 'Year', 'Model', 'Car/Suv', 'Title', 'UsedOrNew',\n",
       "       'Transmission', 'Engine', 'DriveType', 'FuelType',\n",
       "       'FuelConsumption(L/100km)', 'Mileage(km)', 'ColourExtInt', 'Location',\n",
       "       'CylindersinEngine', 'BodyType', 'Doors', 'Seats', 'Price'],\n",
       "      dtype='object')"
      ]
     },
     "execution_count": 40,
     "metadata": {},
     "output_type": "execute_result"
    }
   ],
   "source": [
    "#Checking if the changes has been effected on the column header titles\n",
    "AU_Car_Price.columns"
   ]
  },
  {
   "cell_type": "code",
   "execution_count": 41,
   "id": "927ba67f",
   "metadata": {},
   "outputs": [
    {
     "data": {
      "text/html": [
       "<div>\n",
       "<style scoped>\n",
       "    .dataframe tbody tr th:only-of-type {\n",
       "        vertical-align: middle;\n",
       "    }\n",
       "\n",
       "    .dataframe tbody tr th {\n",
       "        vertical-align: top;\n",
       "    }\n",
       "\n",
       "    .dataframe thead th {\n",
       "        text-align: right;\n",
       "    }\n",
       "</style>\n",
       "<table border=\"1\" class=\"dataframe\">\n",
       "  <thead>\n",
       "    <tr style=\"text-align: right;\">\n",
       "      <th></th>\n",
       "      <th>Brand</th>\n",
       "      <th>Year</th>\n",
       "      <th>Model</th>\n",
       "      <th>Car/Suv</th>\n",
       "      <th>Title</th>\n",
       "      <th>UsedOrNew</th>\n",
       "      <th>Transmission</th>\n",
       "      <th>Engine</th>\n",
       "      <th>DriveType</th>\n",
       "      <th>FuelType</th>\n",
       "      <th>FuelConsumption(L/100km)</th>\n",
       "      <th>Mileage(km)</th>\n",
       "      <th>ColourExtInt</th>\n",
       "      <th>Location</th>\n",
       "      <th>CylindersinEngine</th>\n",
       "      <th>BodyType</th>\n",
       "      <th>Doors</th>\n",
       "      <th>Seats</th>\n",
       "      <th>Price</th>\n",
       "    </tr>\n",
       "  </thead>\n",
       "  <tbody>\n",
       "    <tr>\n",
       "      <th>0</th>\n",
       "      <td>Ssangyong</td>\n",
       "      <td>2022.0</td>\n",
       "      <td>Rexton</td>\n",
       "      <td>Sutherland Isuzu Ute</td>\n",
       "      <td>2022 Ssangyong Rexton Ultimate (awd)</td>\n",
       "      <td>DEMO</td>\n",
       "      <td>Automatic</td>\n",
       "      <td>4 cyl, 2.2 L</td>\n",
       "      <td>AWD</td>\n",
       "      <td>Diesel</td>\n",
       "      <td>8.7</td>\n",
       "      <td>5595.0</td>\n",
       "      <td>White / Black</td>\n",
       "      <td>Caringbah, NSW</td>\n",
       "      <td>4.0</td>\n",
       "      <td>SUV</td>\n",
       "      <td>4 Doors</td>\n",
       "      <td>7 Seats</td>\n",
       "      <td>51990.0</td>\n",
       "    </tr>\n",
       "    <tr>\n",
       "      <th>1</th>\n",
       "      <td>MG</td>\n",
       "      <td>2022.0</td>\n",
       "      <td>MG3</td>\n",
       "      <td>Hatchback</td>\n",
       "      <td>2022 MG MG3 Auto Excite (with Navigation)</td>\n",
       "      <td>USED</td>\n",
       "      <td>Automatic</td>\n",
       "      <td>4 cyl, 1.5 L</td>\n",
       "      <td>Front</td>\n",
       "      <td>Premium</td>\n",
       "      <td>6.7</td>\n",
       "      <td>16.0</td>\n",
       "      <td>Black / Black</td>\n",
       "      <td>Brookvale, NSW</td>\n",
       "      <td>4.0</td>\n",
       "      <td>Hatchback</td>\n",
       "      <td>5 Doors</td>\n",
       "      <td>5 Seats</td>\n",
       "      <td>19990.0</td>\n",
       "    </tr>\n",
       "    <tr>\n",
       "      <th>2</th>\n",
       "      <td>BMW</td>\n",
       "      <td>2022.0</td>\n",
       "      <td>430I</td>\n",
       "      <td>Coupe</td>\n",
       "      <td>2022 BMW 430I M Sport</td>\n",
       "      <td>USED</td>\n",
       "      <td>Automatic</td>\n",
       "      <td>4 cyl, 2 L</td>\n",
       "      <td>Rear</td>\n",
       "      <td>Premium</td>\n",
       "      <td>6.6</td>\n",
       "      <td>8472.0</td>\n",
       "      <td>Grey / White</td>\n",
       "      <td>Sylvania, NSW</td>\n",
       "      <td>4.0</td>\n",
       "      <td>Coupe</td>\n",
       "      <td>2 Doors</td>\n",
       "      <td>4 Seats</td>\n",
       "      <td>108988.0</td>\n",
       "    </tr>\n",
       "    <tr>\n",
       "      <th>3</th>\n",
       "      <td>Mercedes-Benz</td>\n",
       "      <td>2011.0</td>\n",
       "      <td>E500</td>\n",
       "      <td>Coupe</td>\n",
       "      <td>2011 Mercedes-Benz E500 Elegance</td>\n",
       "      <td>USED</td>\n",
       "      <td>Automatic</td>\n",
       "      <td>8 cyl, 5.5 L</td>\n",
       "      <td>Rear</td>\n",
       "      <td>Premium</td>\n",
       "      <td>11</td>\n",
       "      <td>136517.0</td>\n",
       "      <td>White / Brown</td>\n",
       "      <td>Mount Druitt, NSW</td>\n",
       "      <td>8.0</td>\n",
       "      <td>Coupe</td>\n",
       "      <td>2 Doors</td>\n",
       "      <td>4 Seats</td>\n",
       "      <td>32990.0</td>\n",
       "    </tr>\n",
       "    <tr>\n",
       "      <th>4</th>\n",
       "      <td>Renault</td>\n",
       "      <td>2022.0</td>\n",
       "      <td>Arkana</td>\n",
       "      <td>SUV</td>\n",
       "      <td>2022 Renault Arkana Intens</td>\n",
       "      <td>USED</td>\n",
       "      <td>Automatic</td>\n",
       "      <td>4 cyl, 1.3 L</td>\n",
       "      <td>Front</td>\n",
       "      <td>Unleaded</td>\n",
       "      <td>6</td>\n",
       "      <td>1035.0</td>\n",
       "      <td>Grey / Black</td>\n",
       "      <td>Castle Hill, NSW</td>\n",
       "      <td>4.0</td>\n",
       "      <td>SUV</td>\n",
       "      <td>4 Doors</td>\n",
       "      <td>5 Seats</td>\n",
       "      <td>34990.0</td>\n",
       "    </tr>\n",
       "  </tbody>\n",
       "</table>\n",
       "</div>"
      ],
      "text/plain": [
       "           Brand    Year   Model               Car/Suv  \\\n",
       "0      Ssangyong  2022.0  Rexton  Sutherland Isuzu Ute   \n",
       "1             MG  2022.0     MG3             Hatchback   \n",
       "2            BMW  2022.0    430I                 Coupe   \n",
       "3  Mercedes-Benz  2011.0    E500                 Coupe   \n",
       "4        Renault  2022.0  Arkana                   SUV   \n",
       "\n",
       "                                       Title UsedOrNew Transmission  \\\n",
       "0       2022 Ssangyong Rexton Ultimate (awd)      DEMO    Automatic   \n",
       "1  2022 MG MG3 Auto Excite (with Navigation)      USED    Automatic   \n",
       "2                      2022 BMW 430I M Sport      USED    Automatic   \n",
       "3           2011 Mercedes-Benz E500 Elegance      USED    Automatic   \n",
       "4                 2022 Renault Arkana Intens      USED    Automatic   \n",
       "\n",
       "         Engine DriveType  FuelType FuelConsumption(L/100km)  Mileage(km)  \\\n",
       "0  4 cyl, 2.2 L       AWD    Diesel                      8.7       5595.0   \n",
       "1  4 cyl, 1.5 L     Front   Premium                      6.7         16.0   \n",
       "2    4 cyl, 2 L      Rear   Premium                      6.6       8472.0   \n",
       "3  8 cyl, 5.5 L      Rear   Premium                       11     136517.0   \n",
       "4  4 cyl, 1.3 L     Front  Unleaded                        6       1035.0   \n",
       "\n",
       "    ColourExtInt           Location  CylindersinEngine   BodyType     Doors  \\\n",
       "0  White / Black     Caringbah, NSW                4.0        SUV   4 Doors   \n",
       "1  Black / Black     Brookvale, NSW                4.0  Hatchback   5 Doors   \n",
       "2   Grey / White      Sylvania, NSW                4.0      Coupe   2 Doors   \n",
       "3  White / Brown  Mount Druitt, NSW                8.0      Coupe   2 Doors   \n",
       "4   Grey / Black   Castle Hill, NSW                4.0        SUV   4 Doors   \n",
       "\n",
       "      Seats     Price  \n",
       "0   7 Seats   51990.0  \n",
       "1   5 Seats   19990.0  \n",
       "2   4 Seats  108988.0  \n",
       "3   4 Seats   32990.0  \n",
       "4   5 Seats   34990.0  "
      ]
     },
     "execution_count": 41,
     "metadata": {},
     "output_type": "execute_result"
    }
   ],
   "source": [
    "# inspecting the dataframe again\n",
    "AU_Car_Price.head(5)"
   ]
  },
  {
   "cell_type": "markdown",
   "id": "eb26d1d0",
   "metadata": {},
   "source": [
    "### DROPPING COLUMNS\n",
    "Some columns may not be as relevant to for study"
   ]
  },
  {
   "cell_type": "code",
   "execution_count": 42,
   "id": "ae539f0c",
   "metadata": {},
   "outputs": [],
   "source": [
    "AU_Car_Price.drop(columns=['Car/Suv', 'Title', 'Engine', 'Doors', 'Seats', 'Location', 'ColourExtInt'], inplace=True)\n"
   ]
  },
  {
   "cell_type": "code",
   "execution_count": 43,
   "id": "195d81da",
   "metadata": {},
   "outputs": [
    {
     "data": {
      "text/html": [
       "<div>\n",
       "<style scoped>\n",
       "    .dataframe tbody tr th:only-of-type {\n",
       "        vertical-align: middle;\n",
       "    }\n",
       "\n",
       "    .dataframe tbody tr th {\n",
       "        vertical-align: top;\n",
       "    }\n",
       "\n",
       "    .dataframe thead th {\n",
       "        text-align: right;\n",
       "    }\n",
       "</style>\n",
       "<table border=\"1\" class=\"dataframe\">\n",
       "  <thead>\n",
       "    <tr style=\"text-align: right;\">\n",
       "      <th></th>\n",
       "      <th>Brand</th>\n",
       "      <th>Year</th>\n",
       "      <th>Model</th>\n",
       "      <th>UsedOrNew</th>\n",
       "      <th>Transmission</th>\n",
       "      <th>DriveType</th>\n",
       "      <th>FuelType</th>\n",
       "      <th>FuelConsumption(L/100km)</th>\n",
       "      <th>Mileage(km)</th>\n",
       "      <th>CylindersinEngine</th>\n",
       "      <th>BodyType</th>\n",
       "      <th>Price</th>\n",
       "    </tr>\n",
       "  </thead>\n",
       "  <tbody>\n",
       "    <tr>\n",
       "      <th>0</th>\n",
       "      <td>Ssangyong</td>\n",
       "      <td>2022.0</td>\n",
       "      <td>Rexton</td>\n",
       "      <td>DEMO</td>\n",
       "      <td>Automatic</td>\n",
       "      <td>AWD</td>\n",
       "      <td>Diesel</td>\n",
       "      <td>8.7</td>\n",
       "      <td>5595.0</td>\n",
       "      <td>4.0</td>\n",
       "      <td>SUV</td>\n",
       "      <td>51990.0</td>\n",
       "    </tr>\n",
       "    <tr>\n",
       "      <th>1</th>\n",
       "      <td>MG</td>\n",
       "      <td>2022.0</td>\n",
       "      <td>MG3</td>\n",
       "      <td>USED</td>\n",
       "      <td>Automatic</td>\n",
       "      <td>Front</td>\n",
       "      <td>Premium</td>\n",
       "      <td>6.7</td>\n",
       "      <td>16.0</td>\n",
       "      <td>4.0</td>\n",
       "      <td>Hatchback</td>\n",
       "      <td>19990.0</td>\n",
       "    </tr>\n",
       "    <tr>\n",
       "      <th>2</th>\n",
       "      <td>BMW</td>\n",
       "      <td>2022.0</td>\n",
       "      <td>430I</td>\n",
       "      <td>USED</td>\n",
       "      <td>Automatic</td>\n",
       "      <td>Rear</td>\n",
       "      <td>Premium</td>\n",
       "      <td>6.6</td>\n",
       "      <td>8472.0</td>\n",
       "      <td>4.0</td>\n",
       "      <td>Coupe</td>\n",
       "      <td>108988.0</td>\n",
       "    </tr>\n",
       "    <tr>\n",
       "      <th>3</th>\n",
       "      <td>Mercedes-Benz</td>\n",
       "      <td>2011.0</td>\n",
       "      <td>E500</td>\n",
       "      <td>USED</td>\n",
       "      <td>Automatic</td>\n",
       "      <td>Rear</td>\n",
       "      <td>Premium</td>\n",
       "      <td>11</td>\n",
       "      <td>136517.0</td>\n",
       "      <td>8.0</td>\n",
       "      <td>Coupe</td>\n",
       "      <td>32990.0</td>\n",
       "    </tr>\n",
       "    <tr>\n",
       "      <th>4</th>\n",
       "      <td>Renault</td>\n",
       "      <td>2022.0</td>\n",
       "      <td>Arkana</td>\n",
       "      <td>USED</td>\n",
       "      <td>Automatic</td>\n",
       "      <td>Front</td>\n",
       "      <td>Unleaded</td>\n",
       "      <td>6</td>\n",
       "      <td>1035.0</td>\n",
       "      <td>4.0</td>\n",
       "      <td>SUV</td>\n",
       "      <td>34990.0</td>\n",
       "    </tr>\n",
       "    <tr>\n",
       "      <th>...</th>\n",
       "      <td>...</td>\n",
       "      <td>...</td>\n",
       "      <td>...</td>\n",
       "      <td>...</td>\n",
       "      <td>...</td>\n",
       "      <td>...</td>\n",
       "      <td>...</td>\n",
       "      <td>...</td>\n",
       "      <td>...</td>\n",
       "      <td>...</td>\n",
       "      <td>...</td>\n",
       "      <td>...</td>\n",
       "    </tr>\n",
       "    <tr>\n",
       "      <th>16728</th>\n",
       "      <td>Nissan</td>\n",
       "      <td>2021.0</td>\n",
       "      <td>Qashqai</td>\n",
       "      <td>USED</td>\n",
       "      <td>Automatic</td>\n",
       "      <td>Front</td>\n",
       "      <td>Unleaded</td>\n",
       "      <td>6.9</td>\n",
       "      <td>32977.0</td>\n",
       "      <td>4.0</td>\n",
       "      <td>SUV</td>\n",
       "      <td>36770.0</td>\n",
       "    </tr>\n",
       "    <tr>\n",
       "      <th>16729</th>\n",
       "      <td>Toyota</td>\n",
       "      <td>2014.0</td>\n",
       "      <td>Alphard</td>\n",
       "      <td>USED</td>\n",
       "      <td>Automatic</td>\n",
       "      <td>Front</td>\n",
       "      <td>Unleaded</td>\n",
       "      <td>-</td>\n",
       "      <td>66000.0</td>\n",
       "      <td>NaN</td>\n",
       "      <td>Commercial</td>\n",
       "      <td>29500.0</td>\n",
       "    </tr>\n",
       "    <tr>\n",
       "      <th>16731</th>\n",
       "      <td>Suzuki</td>\n",
       "      <td>2022.0</td>\n",
       "      <td>Vitara</td>\n",
       "      <td>DEMO</td>\n",
       "      <td>Automatic</td>\n",
       "      <td>Front</td>\n",
       "      <td>Unleaded</td>\n",
       "      <td>6.2</td>\n",
       "      <td>5165.0</td>\n",
       "      <td>4.0</td>\n",
       "      <td>SUV</td>\n",
       "      <td>35280.0</td>\n",
       "    </tr>\n",
       "    <tr>\n",
       "      <th>16732</th>\n",
       "      <td>Mercedes-Benz</td>\n",
       "      <td>2016.0</td>\n",
       "      <td>GLC250</td>\n",
       "      <td>USED</td>\n",
       "      <td>Automatic</td>\n",
       "      <td>AWD</td>\n",
       "      <td>Premium</td>\n",
       "      <td>7.2</td>\n",
       "      <td>85525.0</td>\n",
       "      <td>4.0</td>\n",
       "      <td>SUV</td>\n",
       "      <td>41888.0</td>\n",
       "    </tr>\n",
       "    <tr>\n",
       "      <th>16733</th>\n",
       "      <td>Mercedes-Benz</td>\n",
       "      <td>2021.0</td>\n",
       "      <td>C200</td>\n",
       "      <td>USED</td>\n",
       "      <td>Automatic</td>\n",
       "      <td>Rear</td>\n",
       "      <td>Unleaded</td>\n",
       "      <td>7</td>\n",
       "      <td>31852.0</td>\n",
       "      <td>4.0</td>\n",
       "      <td>Sedan</td>\n",
       "      <td>65888.0</td>\n",
       "    </tr>\n",
       "  </tbody>\n",
       "</table>\n",
       "<p>15838 rows × 12 columns</p>\n",
       "</div>"
      ],
      "text/plain": [
       "               Brand    Year    Model UsedOrNew Transmission DriveType  \\\n",
       "0          Ssangyong  2022.0   Rexton      DEMO    Automatic       AWD   \n",
       "1                 MG  2022.0      MG3      USED    Automatic     Front   \n",
       "2                BMW  2022.0     430I      USED    Automatic      Rear   \n",
       "3      Mercedes-Benz  2011.0     E500      USED    Automatic      Rear   \n",
       "4            Renault  2022.0   Arkana      USED    Automatic     Front   \n",
       "...              ...     ...      ...       ...          ...       ...   \n",
       "16728         Nissan  2021.0  Qashqai      USED    Automatic     Front   \n",
       "16729         Toyota  2014.0  Alphard      USED    Automatic     Front   \n",
       "16731         Suzuki  2022.0   Vitara      DEMO    Automatic     Front   \n",
       "16732  Mercedes-Benz  2016.0   GLC250      USED    Automatic       AWD   \n",
       "16733  Mercedes-Benz  2021.0     C200      USED    Automatic      Rear   \n",
       "\n",
       "       FuelType FuelConsumption(L/100km)  Mileage(km)  CylindersinEngine  \\\n",
       "0        Diesel                      8.7       5595.0                4.0   \n",
       "1       Premium                      6.7         16.0                4.0   \n",
       "2       Premium                      6.6       8472.0                4.0   \n",
       "3       Premium                       11     136517.0                8.0   \n",
       "4      Unleaded                        6       1035.0                4.0   \n",
       "...         ...                      ...          ...                ...   \n",
       "16728  Unleaded                      6.9      32977.0                4.0   \n",
       "16729  Unleaded                        -      66000.0                NaN   \n",
       "16731  Unleaded                      6.2       5165.0                4.0   \n",
       "16732   Premium                      7.2      85525.0                4.0   \n",
       "16733  Unleaded                        7      31852.0                4.0   \n",
       "\n",
       "         BodyType     Price  \n",
       "0             SUV   51990.0  \n",
       "1       Hatchback   19990.0  \n",
       "2           Coupe  108988.0  \n",
       "3           Coupe   32990.0  \n",
       "4             SUV   34990.0  \n",
       "...           ...       ...  \n",
       "16728         SUV   36770.0  \n",
       "16729  Commercial   29500.0  \n",
       "16731         SUV   35280.0  \n",
       "16732         SUV   41888.0  \n",
       "16733       Sedan   65888.0  \n",
       "\n",
       "[15838 rows x 12 columns]"
      ]
     },
     "execution_count": 43,
     "metadata": {},
     "output_type": "execute_result"
    }
   ],
   "source": [
    "AU_Car_Price"
   ]
  },
  {
   "cell_type": "markdown",
   "id": "b0d009a5",
   "metadata": {},
   "source": [
    "Noticed the data type of the year column is in float, so it needs to be converted to int\n"
   ]
  },
  {
   "cell_type": "code",
   "execution_count": 44,
   "id": "367f725b",
   "metadata": {},
   "outputs": [],
   "source": [
    "# converting the data type of the year column to int\n",
    "AU_Car_Price['Year'] = AU_Car_Price['Year'].astype(int)"
   ]
  },
  {
   "cell_type": "code",
   "execution_count": 47,
   "id": "22d8cdcc",
   "metadata": {},
   "outputs": [
    {
     "data": {
      "text/html": [
       "<div>\n",
       "<style scoped>\n",
       "    .dataframe tbody tr th:only-of-type {\n",
       "        vertical-align: middle;\n",
       "    }\n",
       "\n",
       "    .dataframe tbody tr th {\n",
       "        vertical-align: top;\n",
       "    }\n",
       "\n",
       "    .dataframe thead th {\n",
       "        text-align: right;\n",
       "    }\n",
       "</style>\n",
       "<table border=\"1\" class=\"dataframe\">\n",
       "  <thead>\n",
       "    <tr style=\"text-align: right;\">\n",
       "      <th></th>\n",
       "      <th>Brand</th>\n",
       "      <th>Year</th>\n",
       "      <th>Model</th>\n",
       "      <th>UsedOrNew</th>\n",
       "      <th>Transmission</th>\n",
       "      <th>DriveType</th>\n",
       "      <th>FuelType</th>\n",
       "      <th>FuelConsumption(L/100km)</th>\n",
       "      <th>Mileage(km)</th>\n",
       "      <th>CylindersinEngine</th>\n",
       "      <th>BodyType</th>\n",
       "      <th>Price</th>\n",
       "    </tr>\n",
       "  </thead>\n",
       "  <tbody>\n",
       "    <tr>\n",
       "      <th>0</th>\n",
       "      <td>Ssangyong</td>\n",
       "      <td>2022</td>\n",
       "      <td>Rexton</td>\n",
       "      <td>DEMO</td>\n",
       "      <td>Automatic</td>\n",
       "      <td>AWD</td>\n",
       "      <td>Diesel</td>\n",
       "      <td>8.7</td>\n",
       "      <td>5595.0</td>\n",
       "      <td>4.0</td>\n",
       "      <td>SUV</td>\n",
       "      <td>51990.0</td>\n",
       "    </tr>\n",
       "    <tr>\n",
       "      <th>1</th>\n",
       "      <td>MG</td>\n",
       "      <td>2022</td>\n",
       "      <td>MG3</td>\n",
       "      <td>USED</td>\n",
       "      <td>Automatic</td>\n",
       "      <td>Front</td>\n",
       "      <td>Premium</td>\n",
       "      <td>6.7</td>\n",
       "      <td>16.0</td>\n",
       "      <td>4.0</td>\n",
       "      <td>Hatchback</td>\n",
       "      <td>19990.0</td>\n",
       "    </tr>\n",
       "    <tr>\n",
       "      <th>2</th>\n",
       "      <td>BMW</td>\n",
       "      <td>2022</td>\n",
       "      <td>430I</td>\n",
       "      <td>USED</td>\n",
       "      <td>Automatic</td>\n",
       "      <td>Rear</td>\n",
       "      <td>Premium</td>\n",
       "      <td>6.6</td>\n",
       "      <td>8472.0</td>\n",
       "      <td>4.0</td>\n",
       "      <td>Coupe</td>\n",
       "      <td>108988.0</td>\n",
       "    </tr>\n",
       "    <tr>\n",
       "      <th>3</th>\n",
       "      <td>Mercedes-Benz</td>\n",
       "      <td>2011</td>\n",
       "      <td>E500</td>\n",
       "      <td>USED</td>\n",
       "      <td>Automatic</td>\n",
       "      <td>Rear</td>\n",
       "      <td>Premium</td>\n",
       "      <td>11</td>\n",
       "      <td>136517.0</td>\n",
       "      <td>8.0</td>\n",
       "      <td>Coupe</td>\n",
       "      <td>32990.0</td>\n",
       "    </tr>\n",
       "    <tr>\n",
       "      <th>4</th>\n",
       "      <td>Renault</td>\n",
       "      <td>2022</td>\n",
       "      <td>Arkana</td>\n",
       "      <td>USED</td>\n",
       "      <td>Automatic</td>\n",
       "      <td>Front</td>\n",
       "      <td>Unleaded</td>\n",
       "      <td>6</td>\n",
       "      <td>1035.0</td>\n",
       "      <td>4.0</td>\n",
       "      <td>SUV</td>\n",
       "      <td>34990.0</td>\n",
       "    </tr>\n",
       "    <tr>\n",
       "      <th>5</th>\n",
       "      <td>Toyota</td>\n",
       "      <td>2004</td>\n",
       "      <td>Estima</td>\n",
       "      <td>USED</td>\n",
       "      <td>Automatic</td>\n",
       "      <td>Other</td>\n",
       "      <td>Unleaded</td>\n",
       "      <td>-</td>\n",
       "      <td>160230.0</td>\n",
       "      <td>NaN</td>\n",
       "      <td>Commercial</td>\n",
       "      <td>9990.0</td>\n",
       "    </tr>\n",
       "    <tr>\n",
       "      <th>6</th>\n",
       "      <td>Land</td>\n",
       "      <td>2017</td>\n",
       "      <td>Rover</td>\n",
       "      <td>USED</td>\n",
       "      <td>Automatic</td>\n",
       "      <td>AWD</td>\n",
       "      <td>Diesel</td>\n",
       "      <td>5.1</td>\n",
       "      <td>67662.0</td>\n",
       "      <td>4.0</td>\n",
       "      <td>SUV</td>\n",
       "      <td>62280.0</td>\n",
       "    </tr>\n",
       "    <tr>\n",
       "      <th>7</th>\n",
       "      <td>Nissan</td>\n",
       "      <td>2000</td>\n",
       "      <td>Pulsar</td>\n",
       "      <td>USED</td>\n",
       "      <td>Automatic</td>\n",
       "      <td>Front</td>\n",
       "      <td>Unleaded</td>\n",
       "      <td>8</td>\n",
       "      <td>300539.0</td>\n",
       "      <td>4.0</td>\n",
       "      <td>Hatchback</td>\n",
       "      <td>2995.0</td>\n",
       "    </tr>\n",
       "    <tr>\n",
       "      <th>8</th>\n",
       "      <td>Toyota</td>\n",
       "      <td>2013</td>\n",
       "      <td>86</td>\n",
       "      <td>USED</td>\n",
       "      <td>Automatic</td>\n",
       "      <td>Rear</td>\n",
       "      <td>Premium</td>\n",
       "      <td>7.1</td>\n",
       "      <td>82012.0</td>\n",
       "      <td>4.0</td>\n",
       "      <td>Coupe</td>\n",
       "      <td>24888.0</td>\n",
       "    </tr>\n",
       "    <tr>\n",
       "      <th>9</th>\n",
       "      <td>Honda</td>\n",
       "      <td>2014</td>\n",
       "      <td>Jazz</td>\n",
       "      <td>USED</td>\n",
       "      <td>Automatic</td>\n",
       "      <td>Front</td>\n",
       "      <td>Hybrid</td>\n",
       "      <td>4.5</td>\n",
       "      <td>38229.0</td>\n",
       "      <td>4.0</td>\n",
       "      <td>Hatchback</td>\n",
       "      <td>17900.0</td>\n",
       "    </tr>\n",
       "  </tbody>\n",
       "</table>\n",
       "</div>"
      ],
      "text/plain": [
       "           Brand  Year   Model UsedOrNew Transmission DriveType  FuelType  \\\n",
       "0      Ssangyong  2022  Rexton      DEMO    Automatic       AWD    Diesel   \n",
       "1             MG  2022     MG3      USED    Automatic     Front   Premium   \n",
       "2            BMW  2022    430I      USED    Automatic      Rear   Premium   \n",
       "3  Mercedes-Benz  2011    E500      USED    Automatic      Rear   Premium   \n",
       "4        Renault  2022  Arkana      USED    Automatic     Front  Unleaded   \n",
       "5         Toyota  2004  Estima      USED    Automatic     Other  Unleaded   \n",
       "6           Land  2017   Rover      USED    Automatic       AWD    Diesel   \n",
       "7         Nissan  2000  Pulsar      USED    Automatic     Front  Unleaded   \n",
       "8         Toyota  2013      86      USED    Automatic      Rear   Premium   \n",
       "9          Honda  2014    Jazz      USED    Automatic     Front    Hybrid   \n",
       "\n",
       "  FuelConsumption(L/100km)  Mileage(km)  CylindersinEngine    BodyType  \\\n",
       "0                      8.7       5595.0                4.0         SUV   \n",
       "1                      6.7         16.0                4.0   Hatchback   \n",
       "2                      6.6       8472.0                4.0       Coupe   \n",
       "3                       11     136517.0                8.0       Coupe   \n",
       "4                        6       1035.0                4.0         SUV   \n",
       "5                        -     160230.0                NaN  Commercial   \n",
       "6                      5.1      67662.0                4.0         SUV   \n",
       "7                        8     300539.0                4.0   Hatchback   \n",
       "8                      7.1      82012.0                4.0       Coupe   \n",
       "9                      4.5      38229.0                4.0   Hatchback   \n",
       "\n",
       "      Price  \n",
       "0   51990.0  \n",
       "1   19990.0  \n",
       "2  108988.0  \n",
       "3   32990.0  \n",
       "4   34990.0  \n",
       "5    9990.0  \n",
       "6   62280.0  \n",
       "7    2995.0  \n",
       "8   24888.0  \n",
       "9   17900.0  "
      ]
     },
     "execution_count": 47,
     "metadata": {},
     "output_type": "execute_result"
    }
   ],
   "source": [
    "AU_Car_Price.head(10)"
   ]
  },
  {
   "cell_type": "code",
   "execution_count": 46,
   "id": "4486d09c",
   "metadata": {},
   "outputs": [],
   "source": [
    "#Saving a copy of the cleaned dataframe to my device\n",
    "AU_Car_Price.to_csv('AUSTRALIA CAR PRICES (CLEANED).csv')"
   ]
  },
  {
   "cell_type": "code",
   "execution_count": null,
   "id": "c95f1866",
   "metadata": {},
   "outputs": [],
   "source": []
  }
 ],
 "metadata": {
  "kernelspec": {
   "display_name": "Python 3 (ipykernel)",
   "language": "python",
   "name": "python3"
  },
  "language_info": {
   "codemirror_mode": {
    "name": "ipython",
    "version": 3
   },
   "file_extension": ".py",
   "mimetype": "text/x-python",
   "name": "python",
   "nbconvert_exporter": "python",
   "pygments_lexer": "ipython3",
   "version": "3.11.5"
  }
 },
 "nbformat": 4,
 "nbformat_minor": 5
}
